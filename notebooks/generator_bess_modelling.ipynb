{
 "cells": [
  {
   "cell_type": "markdown",
   "id": "e355cd4b-a35a-42cb-960f-197b02fbb322",
   "metadata": {},
   "source": [
    "## Generator and BESS Modelling"
   ]
  },
  {
   "cell_type": "code",
   "id": "0bdd4e48-8c42-4dc9-8353-7aca2cfac088",
   "metadata": {},
   "source": [
    "import pandas as pd\n",
    "import numpy as np\n",
    "import datetime as dt\n",
    "from scipy import interpolate\n",
    "from scipy.optimize import minimize\n",
    "import plotly.express as px\n",
    "import pandas as pd\n",
    "import plotly.graph_objects as go\n",
    "from plotly.subplots import make_subplots"
   ],
   "outputs": [],
   "execution_count": null
  },
  {
   "cell_type": "markdown",
   "id": "6ce1bf62-02bb-4d36-a7af-dadd323f0ace",
   "metadata": {},
   "source": [
    "### Inputs - Data Cleaning"
   ]
  },
  {
   "cell_type": "code",
   "id": "aa9a597b-5edb-42e5-8026-acab2f26c6b9",
   "metadata": {},
   "source": [
    "def coerce_power(power_obj):\n",
    "    if isinstance(power_obj, str):\n",
    "        value, unit = power_obj.split(\" \", 2)\n",
    "        match unit:\n",
    "            case \"kW\":\n",
    "                return float(value)\n",
    "        match unit:\n",
    "            case \"W\":\n",
    "                return float(value) / 1000 # W -> kW\n",
    "    else:\n",
    "        return np.nan"
   ],
   "outputs": [],
   "execution_count": null
  },
  {
   "cell_type": "code",
   "id": "21b92352-e7ca-46f0-a76d-b6a496fb1176",
   "metadata": {},
   "source": [
    "# load data\n",
    "load_df = pd.read_csv(\"load-data.csv\", parse_dates=True)\n",
    "\n",
    "# parse datetimes\n",
    "load_df[\"Time\"] = pd.to_datetime(load_df[\"Time\"], format=\"%d/%m/%Y %H:%M\")\n",
    "\n",
    "# coerce string power values into float kW values\n",
    "load_df[\"Power\"] = load_df[\"Power\"].apply(lambda x: coerce_power(x))\n",
    "\n",
    "load_df = load_df.set_index(\"Time\")\n",
    "load_df.head()"
   ],
   "outputs": [],
   "execution_count": null
  },
  {
   "cell_type": "code",
   "id": "ac031af1-2ec0-4817-b5d8-c06f822d2842",
   "metadata": {},
   "source": [
    "load_df.mean()"
   ],
   "outputs": [],
   "execution_count": null
  },
  {
   "cell_type": "markdown",
   "id": "5e027359-fa91-4a18-bdfd-c7751849103d",
   "metadata": {},
   "source": [
    "**Assumption**: The data has mutiple values per timestamp. I have been told there is only one meter onsite and so assume these values or instanteous values so the best course of action is to average across them."
   ]
  },
  {
   "cell_type": "code",
   "id": "f3481ade-15e5-4003-b231-59544a913772",
   "metadata": {},
   "source": [
    "total_load_df = load_df.groupby(\"Time\").mean()\n",
    "total_load_df.plot(figsize=(20,3), linestyle=\"--\", marker=\".\", alpha=0.5)"
   ],
   "outputs": [],
   "execution_count": null
  },
  {
   "cell_type": "code",
   "id": "2140cfcf-b598-4ccb-8402-1efb87fd3d71",
   "metadata": {},
   "source": [
    "total_load_df = total_load_df.truncate(before=\"2025-05-13\")\n",
    "total_load_df.plot(figsize=(20,3), linestyle=\"--\", marker=\".\", alpha=0.5)"
   ],
   "outputs": [],
   "execution_count": null
  },
  {
   "cell_type": "markdown",
   "id": "9ec54408-5209-41ea-bc22-e105701ba4f2",
   "metadata": {},
   "source": [
    "**Assumption**: The data has a large gap as the start. Lets trim this and fill any remaining gaps with a basic ffill"
   ]
  },
  {
   "cell_type": "code",
   "id": "c4af67e5-8414-4895-a44f-c43deee4132c",
   "metadata": {},
   "source": [
    "ts_start, ts_end = total_load_df.index[0], total_load_df.index[-1] \n",
    "full_spine_df = pd.DataFrame({\"Time\": pd.date_range(ts_start, ts_end, freq=\"1min\")}).set_index(\"Time\")\n",
    "filled_load_df = full_spine_df.join(total_load_df).ffill().dropna()"
   ],
   "outputs": [],
   "execution_count": null
  },
  {
   "cell_type": "code",
   "id": "284190c1-dc20-4318-b1aa-6d8123d8ec39",
   "metadata": {},
   "source": [
    "# filled_load_df.to_csv(\"../data/filled_load_df.csv\")"
   ],
   "outputs": [],
   "execution_count": null
  },
  {
   "cell_type": "markdown",
   "id": "9fcc4bbb-3eb4-4623-8afd-5680b4b76f90",
   "metadata": {},
   "source": [
    "## Question 1: Diesel Generator"
   ]
  },
  {
   "cell_type": "markdown",
   "id": "80d73d50-5054-4672-9adc-7dbce4a5d587",
   "metadata": {},
   "source": [
    "Given no grid connection and load profile:\n",
    "\n",
    "**Question**: What size of generator would you recommend?"
   ]
  },
  {
   "cell_type": "code",
   "id": "27e5c455-40a1-451e-ad13-e61b68bbfb78",
   "metadata": {},
   "source": [
    "print(f\"Max load = {filled_load_df[\"Power\"].max()}kW\")"
   ],
   "outputs": [],
   "execution_count": null
  },
  {
   "cell_type": "code",
   "id": "6cfd91d2-853d-4a71-834d-c10bc43e3bd2",
   "metadata": {},
   "source": [
    "GEN_SIZE = 40 #kW rounding up to block of 10kW"
   ],
   "outputs": [],
   "execution_count": null
  },
  {
   "cell_type": "markdown",
   "id": "dbbca0d2-2a15-4a7e-86d2-b22cd02fec86",
   "metadata": {},
   "source": [
    "**Answer**: Need to be able to meet peak demand using blocks of 10kW, so generator would have to be sized to 40kW."
   ]
  },
  {
   "cell_type": "markdown",
   "id": "784634ba-1059-41bb-bf20-d25b5f5d5817",
   "metadata": {},
   "source": [
    "**Question**: Calculate the total cost of power the site with the generator over the period covered in the load profile data?\n",
    "\n",
    "**Answer**: Need to consider the rental price per day and the fuel price.\n",
    "\n",
    "- Load, generator size and efficiency curve will give you litres of fuel. Cost of fuel is £1.43/l.\n",
    "- Rental price depends only on the generator size @ £20/week/10kW block\n",
    "\n",
    "To get a better idea of cost, we have imputed the gaps in the load profile using a forward filling method."
   ]
  },
  {
   "cell_type": "code",
   "id": "c7c10149-c933-4694-8f7a-60a8960fdf04",
   "metadata": {},
   "source": [
    "PERIOD_WEEKS = (ts_end - ts_start) / dt.timedelta(days=7)\n",
    "PERIOD_WEEKS"
   ],
   "outputs": [],
   "execution_count": null
  },
  {
   "cell_type": "code",
   "id": "e4f6c229-9720-4d99-b35c-59d6ae3b40a2",
   "metadata": {},
   "source": [
    "GEN_PRICE_10KW_WEEK = 20 # £ per week\n",
    "rental_price = (GEN_SIZE/10)*GEN_PRICE_10KW_WEEK*PERIOD_WEEKS\n",
    "print(f\"**RENTAL PRICE**: £{rental_price:.1f} over the period ({PERIOD_WEEKS:.1f} weeks) from {ts_start} to {ts_end}\")"
   ],
   "outputs": [],
   "execution_count": null
  },
  {
   "cell_type": "code",
   "id": "034dd8c0-1f0f-46bd-9128-2e7443ed58bb",
   "metadata": {},
   "source": [
    "gen_curve  = pd.read_csv(\"gen_fuel_eff_curves.csv\", index_col=0)"
   ],
   "outputs": [],
   "execution_count": null
  },
  {
   "cell_type": "code",
   "id": "43f60ec9-63f8-4d77-b1dc-0c3a54445c4b",
   "metadata": {},
   "source": [
    "px.line(gen_curve)"
   ],
   "outputs": [],
   "execution_count": null
  },
  {
   "cell_type": "markdown",
   "id": "e5d8d714-48db-4422-9b27-06386cd37a8f",
   "metadata": {},
   "source": [
    "#### **NOTE**: This generator seems very inefficient. 0.02 kWh/litre is odd, typical generators are more like 3-4 kWh/litre at full load. I think the given % based curve was out by a factor of 100. Manually corrected it."
   ]
  },
  {
   "cell_type": "markdown",
   "id": "bbb7db56-acfa-4168-a600-2fc3eea004f1",
   "metadata": {},
   "source": [
    "#### Interpolate the fuel consumption for the load timeseries"
   ]
  },
  {
   "cell_type": "code",
   "id": "4f39ed16-0c94-4a54-8f77-a07925e99fe3",
   "metadata": {},
   "source": [
    "fuel_func = interpolate.interp1d(GEN_SIZE*gen_curve.index, gen_curve['kWh_litre'])"
   ],
   "outputs": [],
   "execution_count": null
  },
  {
   "cell_type": "code",
   "id": "1fee69ed-02ed-4457-8112-9e6dd170531f",
   "metadata": {},
   "source": [
    "filled_load_df[\"fuel_kWh_litre\"] = [fuel_func(i) for i in filled_load_df[\"Power\"]]"
   ],
   "outputs": [],
   "execution_count": null
  },
  {
   "cell_type": "markdown",
   "id": "404abaf3-daa1-4211-88de-a0b757f9305c",
   "metadata": {},
   "source": [
    "#### Calculate the energy kWh for each timestep and divide by fuel consumption to get litres of fuel used"
   ]
  },
  {
   "cell_type": "code",
   "id": "2fc1417c-1629-42ef-af57-049a011902fc",
   "metadata": {},
   "source": [
    "filled_load_df[\"Energy_kWh\"] = filled_load_df[\"Power\"]/60"
   ],
   "outputs": [],
   "execution_count": null
  },
  {
   "cell_type": "code",
   "id": "677c16ae-2f89-47ab-9e76-95e07c925330",
   "metadata": {},
   "source": [
    "filled_load_df[\"Fuel_consump_litres\"] = filled_load_df[\"Energy_kWh\"]/filled_load_df[\"fuel_kWh_litre\"]"
   ],
   "outputs": [],
   "execution_count": null
  },
  {
   "cell_type": "markdown",
   "id": "580f4f1e-baee-43ba-8dca-bbac770f59bd",
   "metadata": {},
   "source": [
    "#### Calculate cost based on 1.43£/l of fuel"
   ]
  },
  {
   "cell_type": "code",
   "id": "aa134496-b00a-46ee-a252-f82fd1085384",
   "metadata": {},
   "source": [
    "PRICE_PER_LITRE = 1.43\n",
    "\n",
    "filled_load_df[\"Fuel_cost_£\"] = filled_load_df[\"Fuel_consump_litres\"] * PRICE_PER_LITRE"
   ],
   "outputs": [],
   "execution_count": null
  },
  {
   "cell_type": "code",
   "id": "2d89934d-6611-469c-978c-1b27799a8130",
   "metadata": {},
   "source": [
    "(filled_load_df[\"Fuel_consump_litres\"].sum())"
   ],
   "outputs": [],
   "execution_count": null
  },
  {
   "cell_type": "code",
   "id": "00aa879d-85a2-415a-9316-27b43af866c5",
   "metadata": {},
   "source": [
    "fuel_cost = filled_load_df[\"Fuel_cost_£\"].sum()\n",
    "print(f\"**FUEL cost**: £{fuel_cost:.1f} over the period ({PERIOD_WEEKS:.1f} weeks) from {ts_start} to {ts_end}\")"
   ],
   "outputs": [],
   "execution_count": null
  },
  {
   "cell_type": "code",
   "id": "d5f2c51e-e5ee-4ef1-97c1-5427ca63fb86",
   "metadata": {},
   "source": [
    "total_gen_cost = fuel_cost + rental_price\n",
    "total_gen_cost"
   ],
   "outputs": [],
   "execution_count": null
  },
  {
   "cell_type": "code",
   "id": "52859ae9-532b-4c13-b2ce-547e4d947055",
   "metadata": {},
   "source": [
    "TOTAL_GEN_COST = 4601.59"
   ],
   "outputs": [],
   "execution_count": null
  },
  {
   "cell_type": "code",
   "id": "42423603-9509-4292-9ed9-f955895f906f",
   "metadata": {},
   "source": [
    "TOTAL_FUEL = filled_load_df[\"Fuel_consump_litres\"].sum()\n",
    "TOTAL_FUEL"
   ],
   "outputs": [],
   "execution_count": null
  },
  {
   "cell_type": "markdown",
   "id": "98e7011f-1624-4393-a090-1b7e115d658d",
   "metadata": {},
   "source": [
    "**Question**: Calculate the Co2 emissions given 2.86kg/l"
   ]
  },
  {
   "cell_type": "code",
   "id": "11fccd14-7973-4458-bc69-c99d478a8e51",
   "metadata": {},
   "source": [
    "CO2_LITRE = 2.86#kg\n",
    "\n",
    "total_gen_co2 = filled_load_df[\"Fuel_consump_litres\"].sum()*CO2_LITRE\n",
    "\n",
    "f\"The total co2 = {total_gen_co2:.1f}kg\""
   ],
   "outputs": [],
   "execution_count": null
  },
  {
   "cell_type": "code",
   "id": "f9c1908d-23d7-419d-bcd2-14952d7a9f60",
   "metadata": {},
   "source": [
    "filled_load_df[\"Fuel_consump_litres\"].sum()*CO2_LITRE"
   ],
   "outputs": [],
   "execution_count": null
  },
  {
   "cell_type": "code",
   "id": "84f54f25-8f3d-4d4b-8cdb-1d6ab1f9f72c",
   "metadata": {},
   "source": [
    "TOTAL_GEN_CO2 = 8426.1"
   ],
   "outputs": [],
   "execution_count": null
  },
  {
   "cell_type": "markdown",
   "id": "dd888712-0d8a-4ea2-8dc8-c8da61767ecf",
   "metadata": {},
   "source": [
    "## Question 2: Diesel generator coupled with a battery\n",
    "The battery is able to charge from the generator and discharge to power the load.\n",
    "We believe adding a battery would add a significant Co2 and £ savings to our customers but we need to quantify those savings and choose the best battery size\n"
   ]
  },
  {
   "cell_type": "markdown",
   "id": "03707749-06bf-4252-8bfd-c791ebf52338",
   "metadata": {},
   "source": [
    "#### **Question**: What is the battery size (kW) and energy (kWh) that would minimise the generator size?"
   ]
  },
  {
   "cell_type": "code",
   "id": "0998ad63-e3d4-4a9e-acde-71b2b83b0394",
   "metadata": {},
   "source": [
    "#need for power/energy calculations\n",
    "delta_t = pd.to_datetime(filled_load_df.index).diff().mean() / pd.Timedelta(\"1hr\")\n",
    "delta_t"
   ],
   "outputs": [],
   "execution_count": null
  },
  {
   "cell_type": "code",
   "id": "f98c3d80-ec6c-403f-96e8-fcfd9a32736b",
   "metadata": {},
   "source": [
    "filled_load_df.isna().sum()"
   ],
   "outputs": [],
   "execution_count": null
  },
  {
   "cell_type": "markdown",
   "id": "a9d81f02-ccb9-48dc-bc4a-ed74068e4381",
   "metadata": {},
   "source": [
    "## Simulation\n",
    "This model assumes the battery acting is as 'peak shaving'\n",
    "Round trip eff of 85%, assuming, charging and discharging eff of sqrt(85%)=92%"
   ]
  },
  {
   "cell_type": "code",
   "id": "01cfb31c-2c1f-4484-9336-2921d1cd30a3",
   "metadata": {},
   "source": [
    "def simulate_battery_generator(\n",
    "    load_ser: pd.Series,\n",
    "    battery_capacity_kwh: float,\n",
    "    battery_power_kw: float,\n",
    "    generator_power_kw: float,\n",
    "    normalised_gen_curve: pd.DataFrame,\n",
    "    battery_efficiency: float = 0.92,\n",
    "    initial_soc: float = 0.5,\n",
    ") -> pd.DataFrame:\n",
    "    battery_efficiency = 0.92\n",
    "    time_step_hours = pd.to_datetime(load_ser.index).diff().mean() / pd.Timedelta(\"1hr\")\n",
    "    soc_kwh = initial_soc * battery_capacity_kwh\n",
    "    max_charge_kwh = max_discharge_kwh = (battery_power_kw * time_step_hours)*battery_efficiency\n",
    "\n",
    "    # efficiency curve scales to gen power\n",
    "    fuel_func = interpolate.interp1d(\n",
    "        generator_power_kw * normalised_gen_curve.index,\n",
    "        normalised_gen_curve[\"kWh_litre\"],\n",
    "    )\n",
    "\n",
    "    net_power_history = []\n",
    "    soc_history = []\n",
    "    fault_history = []\n",
    "    battery_power_history = []\n",
    "    gen_power_history = []\n",
    "    gen_energy_history = []\n",
    "    fuel_efficiency_history = []\n",
    "    fuel_usage_history = []\n",
    "    scenario_history = []\n",
    "\n",
    "    for load_kw in load_ser:\n",
    "\n",
    "        net_power_kw = generator_power_kw - load_kw  # peak shaving\n",
    "\n",
    "        # generator can meet demand at 100% load\n",
    "        if net_power_kw == 0:\n",
    "            generator_power_kw_actual = generator_power_kw\n",
    "            fuel_eff = fuel_func(generator_power_kw_actual)  # kWh/litre\n",
    "            generator_usage_kwh = generator_power_kw_actual * time_step_hours\n",
    "            fuel_usage = (generator_usage_kwh) / fuel_eff\n",
    "            fault = 0\n",
    "            battery_power_kw_actual = 0\n",
    "            scenario = 3 # generator only\n",
    "        \n",
    "        # run generator as high as possible and charge battery if possible\n",
    "        elif net_power_kw > 0:\n",
    "            # charge amount limited by power, net power and batter cap left\n",
    "            charge_energy_kwh = min(max_charge_kwh, (net_power_kw * time_step_hours)*battery_efficiency, (battery_capacity_kwh-soc_kwh))\n",
    "            \n",
    "            # Generator runs at full load and battery takes extra\n",
    "            if charge_energy_kwh == (net_power_kw * time_step_hours)* battery_efficiency:\n",
    "                generator_power_kw_actual = generator_power_kw\n",
    "                fuel_eff = fuel_func(generator_power_kw_actual)  # kWh/litre\n",
    "                generator_usage_kwh = generator_power_kw_actual * time_step_hours\n",
    "                fuel_usage = (generator_usage_kwh) / fuel_eff\n",
    "            \n",
    "            # Generator runs as high as possible and battery charges as much as it can\n",
    "            else:\n",
    "                gen_load_kwh = (generator_power_kw * time_step_hours) - ((net_power_kw * time_step_hours)-charge_energy_kwh)\n",
    "                generator_power_kw_actual = gen_load_kwh / time_step_hours\n",
    "                fuel_eff = fuel_func(generator_power_kw_actual)  # kWh/litre\n",
    "                generator_usage_kwh = gen_load_kwh\n",
    "                fuel_usage = (gen_load_kwh) / fuel_eff\n",
    "            \n",
    "            # Battery charges\n",
    "            soc_kwh += charge_energy_kwh\n",
    "            battery_power_kw_actual = -charge_energy_kwh / time_step_hours # negative = charging\n",
    "\n",
    "            fault = 0\n",
    "            scenario = 1 #battery charging\n",
    "\n",
    "        elif net_power_kw < 0:\n",
    "            # Generator runs at 100%\n",
    "            generator_power_kw_actual = generator_power_kw\n",
    "            fuel_eff = fuel_func(generator_power_kw_actual)  # kWh/litre\n",
    "            generator_usage_kwh = generator_power_kw_actual * time_step_hours\n",
    "            fuel_usage = (generator_usage_kwh) / fuel_eff\n",
    "\n",
    "            \n",
    "            # discharge amount limited by power, net power and soc\n",
    "            discharge_energy_kwh = min(max_discharge_kwh, (abs(net_power_kw) * time_step_hours) / battery_efficiency, soc_kwh)\n",
    "            \n",
    "            if (\n",
    "                discharge_energy_kwh == max_discharge_kwh\n",
    "            ):  # battery cant supply load - clips at max discharge rate\n",
    "                battery_power_kw_actual = max_discharge_kwh / time_step_hours\n",
    "                fault = 1\n",
    "            # battery empty\n",
    "            elif discharge_energy_kwh == 0:\n",
    "                battery_power_kw_actual = 0\n",
    "                fault = 1\n",
    "            # battery discharges required energy\n",
    "            else:\n",
    "                battery_power_kw_actual = (\n",
    "                    discharge_energy_kwh / time_step_hours\n",
    "                )  # positive = discharging\n",
    "                fault = 0\n",
    "\n",
    "            soc_kwh -= discharge_energy_kwh\n",
    "            scenario = 2 #battery discharging with generator\n",
    "\n",
    "        else:\n",
    "            # no load\n",
    "            battery_power_kw_actual = 0\n",
    "            net_power_kw = 0\n",
    "            fault = 0\n",
    "            fuel_usage = 0\n",
    "            fuel_eff = 0\n",
    "            generator_power_kw_actual = 0\n",
    "            generator_usage_kwh = 0\n",
    "            scenario = 0\n",
    "\n",
    "        soc_history.append(soc_kwh)\n",
    "        battery_power_history.append(battery_power_kw_actual)\n",
    "        net_power_history.append(net_power_kw)\n",
    "        fault_history.append(fault)\n",
    "        fuel_usage_history.append(float(fuel_usage))\n",
    "        gen_power_history.append(generator_power_kw_actual)\n",
    "        scenario_history.append(scenario)\n",
    "        fuel_efficiency_history.append(float(fuel_eff))\n",
    "        gen_energy_history.append(generator_usage_kwh)\n",
    "\n",
    "    return pd.DataFrame(\n",
    "        {\n",
    "            \"Load_kW\": load_ser,\n",
    "            \"Net_power_kW\": net_power_history,\n",
    "            \"scenario\": scenario_history,\n",
    "            \"SOC_kWh\": soc_history,\n",
    "            \"Battery_Power_kW\": battery_power_history,\n",
    "            \"fault_history\": fault_history,\n",
    "            \"gen_energy_usage\": gen_energy_history,\n",
    "            \"fuel_eff\": fuel_efficiency_history,\n",
    "            \"fuel_usage_history\": fuel_usage_history,\n",
    "            \"generator_power_kW_actual\": gen_power_history,\n",
    "        },\n",
    "        index=load_ser.index,\n",
    "    )"
   ],
   "outputs": [],
   "execution_count": null
  },
  {
   "cell_type": "code",
   "id": "3b2b0100-ccee-4bde-b886-b2c7ad9b1720",
   "metadata": {},
   "source": [
    "#-1 battery discharge only\n",
    "# 0 no load\n",
    "# 1 battery charging\n",
    "# 2 battery discharging with generator"
   ],
   "outputs": [],
   "execution_count": null
  },
  {
   "cell_type": "code",
   "id": "07301ba3-6521-43b8-ab8c-fc11ccb9424c",
   "metadata": {},
   "source": [
    "#helper function\n",
    "def system_rental_price(generator_power_kw, battery_capacity_kwh, battery_power_kw):\n",
    "    rental_gen_cost = generator_power_kw * PERIOD_WEEKS * (20/10) #£20/10kW per week\n",
    "    battery_cap_rental_cost = battery_capacity_kwh * PERIOD_WEEKS * (33/5) #£33/5kWh per week\n",
    "    battery_power_rental_cost = battery_power_kw * PERIOD_WEEKS * (100/10) #£100/10kW per week\n",
    "    return sum([rental_gen_cost, battery_cap_rental_cost, battery_power_rental_cost])\n",
    "\n",
    "\n",
    "def fuel_cost_and_co2_faults(results_df):\n",
    "    \n",
    "    return  {\n",
    "        \"fuel_cost_£\": results_df[\"fuel_usage_history\"].sum()*PRICE_PER_LITRE,\n",
    "        \"co2_kg\": results_df[\"fuel_usage_history\"].sum()*CO2_LITRE,\n",
    "        \"no_faults\": results_df['fault_history'].sum()\n",
    "    }\n"
   ],
   "outputs": [],
   "execution_count": null
  },
  {
   "cell_type": "markdown",
   "id": "eaf17731-0f68-48c7-912c-e26870f4b8e5",
   "metadata": {},
   "source": [
    "#### Run model"
   ]
  },
  {
   "cell_type": "code",
   "id": "f6af1f24-a3e0-4d99-af66-fb6fde935a23",
   "metadata": {},
   "source": [
    "generator_power_kw=10\n",
    "battery_capacity_kwh=37\n",
    "battery_power_kw=30\n",
    "\n",
    "results_df = simulate_battery_generator(\n",
    "    load_ser = filled_load_df[\"Power\"],\n",
    "    battery_capacity_kwh = battery_capacity_kwh,\n",
    "    battery_power_kw = battery_power_kw,\n",
    "    generator_power_kw = generator_power_kw,\n",
    "    normalised_gen_curve = gen_curve\n",
    ")\n",
    "\n",
    "rental_price = system_rental_price(generator_power_kw, battery_capacity_kwh, battery_power_kw)\n",
    "fuel_cost_and_co2_faults_dict = fuel_cost_and_co2_faults(results_df)\n",
    "total_price = fuel_cost_and_co2_faults_dict['fuel_cost_£'] + rental_price\n",
    "\n",
    "print(f\"The total cost = {total_price} which represents a saving of {TOTAL_GEN_COST - total_price}\")\n",
    "print(f\"The total co2 = {fuel_cost_and_co2_faults_dict['co2_kg']} which represents a saving of {TOTAL_GEN_CO2 - fuel_cost_and_co2_faults_dict['co2_kg']}\")\n",
    "print(f\"Total no. of faults = {fuel_cost_and_co2_faults_dict['no_faults']}\")"
   ],
   "outputs": [],
   "execution_count": null
  },
  {
   "cell_type": "code",
   "id": "cfa807f7-caa1-4686-8a0d-8a9cb324c249",
   "metadata": {},
   "source": [
    "selected_columns = [\n",
    "    \"Load_kW\",\n",
    "    # \"Net_power_kW\",\n",
    "    # \"scenario\",\n",
    "    \"SOC_kWh\",\n",
    "    \"Battery_Power_kW\",\n",
    "    \"fault_history\",\n",
    "    # \"gen_energy_usage\",\n",
    "    \"fuel_eff\",\n",
    "    # \"fuel_usage_history\",\n",
    "    \"generator_power_kW_actual\",\n",
    "]\n",
    "\n",
    "\n",
    "fig = make_subplots(\n",
    "    rows=len(selected_columns), cols=1,\n",
    "    shared_xaxes=True,\n",
    "    subplot_titles=selected_columns,\n",
    "    vertical_spacing=0.05\n",
    ")\n",
    "\n",
    "for i, col in enumerate(selected_columns, start=1):\n",
    "    fig.add_trace(\n",
    "        go.Scatter(\n",
    "            x=results_df.index, \n",
    "            y=results_df[col], \n",
    "            name=col,\n",
    "            mode='lines'\n",
    "        ),\n",
    "        row=i, col=1\n",
    "    )\n",
    "\n",
    "fig.update_layout(\n",
    "    height=100 * len(selected_columns), \n",
    "    showlegend=False\n",
    ")\n",
    "\n",
    "fig.show()"
   ],
   "outputs": [],
   "execution_count": null
  },
  {
   "cell_type": "markdown",
   "id": "aa6c0438-c2d8-4de8-ab1d-9b0c88b1c68e",
   "metadata": {},
   "source": [
    "## Optimisation\n",
    "Use scipy minimize and add penalty to avoid faults where the battery cannot supply the needed power"
   ]
  },
  {
   "cell_type": "markdown",
   "id": "342e55ea-bc9a-4b9c-b2e2-3498d3fb85f0",
   "metadata": {},
   "source": [
    "#### Minimise generator size"
   ]
  },
  {
   "cell_type": "code",
   "id": "c8f83c6a-064d-4493-be17-5bd262e60a4e",
   "metadata": {},
   "source": [
    "def generator_cost_function(params):\n",
    "    generator_power_kw, battery_capacity_kwh, battery_power_kw = params\n",
    "    \n",
    "    # Run simulation - to get faults\n",
    "    results_df = simulate_battery_generator(\n",
    "        load_ser=filled_load_df[\"Power\"],\n",
    "        battery_capacity_kwh=battery_capacity_kwh,\n",
    "        battery_power_kw=battery_power_kw,\n",
    "        generator_power_kw=generator_power_kw,  # minimize passes as array\n",
    "        normalised_gen_curve = gen_curve\n",
    "    )\n",
    "\n",
    "    faults = results_df['fault_history'].sum()\n",
    "    return generator_power_kw + faults * 1000  # penalize faults heavily"
   ],
   "outputs": [],
   "execution_count": null
  },
  {
   "cell_type": "code",
   "id": "479bd8e8-c26b-419d-a852-77cb8d3c02cd",
   "metadata": {},
   "source": [
    "# Bounds for battery parameters\n",
    "bounds = [\n",
    "    (5, 35),  # generator_power_kW\n",
    "    (5, 100),# battery_capacity_kWh\n",
    "    (5, 40)   # battery_power_kW\n",
    "]    \n",
    "\n",
    "# Run optimization\n",
    "result = minimize(generator_cost_function, x0=[10, 40, 35], bounds=bounds)\n",
    "\n",
    "# Extract results\n",
    "min_generator_power, optimal_capacity, optimal_power = result.x\n",
    "\n",
    "print(f\"Optimal battery capacity: {optimal_capacity:.2f} kWh\")\n",
    "print(f\"Optimal battery power: {optimal_power:.2f} kW\")\n",
    "print(f\"Optimal generator power: {min_generator_power:.2f} kW\")"
   ],
   "outputs": [],
   "execution_count": null
  },
  {
   "cell_type": "code",
   "id": "e7e52cee-b216-4f9d-a6bd-3e3cd23904e4",
   "metadata": {},
   "source": [
    "# gen in blocks of 10kW, battery in 10kW and 5kWh blocks\n",
    "generator_power_kw=10\n",
    "battery_capacity_kwh=40\n",
    "battery_power_kw=30\n",
    "\n",
    "# Calculate co2 and cost (compate to gen only)\n",
    "results_df = simulate_battery_generator(\n",
    "    load_ser=filled_load_df[\"Power\"],\n",
    "    battery_capacity_kwh=battery_capacity_kwh,\n",
    "    battery_power_kw=battery_power_kw,\n",
    "    generator_power_kw=generator_power_kw,\n",
    "    normalised_gen_curve = gen_curve\n",
    ")\n",
    "\n",
    "rental_price = system_rental_price(generator_power_kw, battery_capacity_kwh, battery_power_kw)\n",
    "fuel_cost_and_co2_faults_dict = fuel_cost_and_co2_faults(results_df)\n",
    "total_price = fuel_cost_and_co2_faults_dict['fuel_cost_£'] + rental_price\n",
    "print(fuel_cost_and_co2_faults_dict)\n",
    "\n",
    "print(f\"The total cost = {total_price} which represents a saving of {TOTAL_GEN_COST - total_price}\")\n",
    "print(f\"The total co2 = {fuel_cost_and_co2_faults_dict['co2_kg']} which represents a saving of {TOTAL_GEN_CO2 - fuel_cost_and_co2_faults_dict['co2_kg']}\")\n",
    "print(f\"Total no. of faults = {fuel_cost_and_co2_faults_dict['no_faults']}\")"
   ],
   "outputs": [],
   "execution_count": null
  },
  {
   "cell_type": "markdown",
   "id": "425a42b2-3365-4313-8651-285d4bfc12be",
   "metadata": {},
   "source": [
    "#### Optimise for cost"
   ]
  },
  {
   "cell_type": "code",
   "id": "faf6a449-4b04-4ef4-b197-e13ff5cc354c",
   "metadata": {},
   "source": [
    "def system_price_cost_function(params):\n",
    "    generator_power_kw, battery_capacity_kwh, battery_power_kw = params\n",
    "    \n",
    "    # Run simulation - to get faults and fuel price\n",
    "    results_dict = simulate_battery_generator(\n",
    "        load_ser=filled_load_df[\"Power\"],\n",
    "        battery_capacity_kwh=battery_capacity_kwh,\n",
    "        battery_power_kw=battery_power_kw,\n",
    "        initial_soc=0.5,\n",
    "        generator_power_kw=generator_power_kw,  # minimize passes as array\n",
    "        battery_efficiency=0.85,\n",
    "        normalised_gen_curve = gen_curve\n",
    "    )\n",
    "    \n",
    "    results_dict = fuel_cost_and_co2_faults(results_dict)\n",
    "    \n",
    "    gen_fuel_cost = results_dict[\"fuel_cost_£\"]\n",
    "    faults = results_dict[\"no_faults\"]\n",
    "    \n",
    "    rental_costs = system_rental_price(generator_power_kw, battery_capacity_kwh, battery_power_kw)\n",
    "    \n",
    "    return rental_costs + gen_fuel_cost + (faults * 1000)  # penalize faults heavily"
   ],
   "outputs": [],
   "execution_count": null
  },
  {
   "cell_type": "code",
   "id": "3d599f89-0922-41dd-ab3c-6b8620cd86cf",
   "metadata": {},
   "source": [
    "# Bounds for battery parameters\n",
    "bounds = [\n",
    "    (10, 35),  # generator_power_kW\n",
    "    (5, 50),# battery_capacity_kWh\n",
    "    (10, 40)   # battery_power_kW\n",
    "]   \n",
    "\n",
    "# Run optimization\n",
    "result = minimize(system_price_cost_function, x0=[30, 5, 10], bounds=bounds)\n",
    "\n",
    "# Extract results\n",
    "min_generator_power, optimal_capacity, optimal_power = result.x\n",
    "\n",
    "print(f\"Optimal battery capacity: {optimal_capacity:.2f} kWh\")\n",
    "print(f\"Optimal battery power: {optimal_power:.2f} kW\")\n",
    "print(f\"Optimal generator power: {min_generator_power:.2f} kW\")"
   ],
   "outputs": [],
   "execution_count": null
  },
  {
   "cell_type": "code",
   "id": "e786c2c4-31c7-4501-b726-24e6f1454822",
   "metadata": {},
   "source": [
    "# gen in blocks of 10kW, battery in 10kW and 5kWh blocks\n",
    "generator_power_kw=30\n",
    "battery_capacity_kwh=5\n",
    "battery_power_kw=10\n",
    "\n",
    "# Calculate co2 and cost (compate to gen only)\n",
    "results_df = simulate_battery_generator(\n",
    "    load_ser=filled_load_df[\"Power\"],\n",
    "    battery_capacity_kwh=battery_capacity_kwh,\n",
    "    battery_power_kw=battery_power_kw,\n",
    "    generator_power_kw=generator_power_kw,\n",
    "    normalised_gen_curve = gen_curve\n",
    ")\n",
    "\n",
    "rental_price = system_rental_price(generator_power_kw, battery_capacity_kwh, battery_power_kw)\n",
    "fuel_cost_and_co2_faults_dict = fuel_cost_and_co2_faults(results_df)\n",
    "# print(fuel_cost_and_co2_faults_dict['fuel_cost_£'], rental_price)\n",
    "# print(generator_power_kw, battery_capacity_kwh, battery_power_kw)\n",
    "total_price = fuel_cost_and_co2_faults_dict['fuel_cost_£'] + rental_price\n",
    "\n",
    "print(f\"The total cost = {total_price} which represents a saving of {TOTAL_GEN_COST - total_price}\")\n",
    "print(f\"The total co2 = {fuel_cost_and_co2_faults_dict['co2_kg']} which represents a saving of {TOTAL_GEN_CO2 - fuel_cost_and_co2_faults_dict['co2_kg']}\")\n",
    "print(f\"Total no. of faults = {fuel_cost_and_co2_faults_dict['no_faults']}\")"
   ],
   "outputs": [],
   "execution_count": null
  },
  {
   "cell_type": "markdown",
   "id": "05b80fe7-f6cf-4c66-bed8-2194a43e944d",
   "metadata": {},
   "source": [
    "### Optmise for co2"
   ]
  },
  {
   "cell_type": "code",
   "id": "f4d71b3b-9f3f-4a04-aac2-561576663aa4",
   "metadata": {},
   "source": [
    "def system_co2_cost_function(params):\n",
    "    generator_power_kw, battery_capacity_kwh, battery_power_kw = params\n",
    "    \n",
    "    # Run simulation - to get faults and fuel usage\n",
    "    results_df = simulate_battery_generator(\n",
    "        load_ser=filled_load_df[\"Power\"],\n",
    "        battery_capacity_kwh=battery_capacity_kwh,\n",
    "        battery_power_kw=battery_power_kw,\n",
    "        generator_power_kw=generator_power_kw,  # minimize passes as array\n",
    "        normalised_gen_curve = gen_curve\n",
    "    )\n",
    "\n",
    "    results_dict = fuel_cost_and_co2_faults(results_df)\n",
    "    gen_fuel_co2 =results_dict[\"co2_kg\"]\n",
    "    faults = results_dict[\"no_faults\"]\n",
    "    \n",
    "    return gen_fuel_co2 + (faults * 10000)  # penalize faults heavily"
   ],
   "outputs": [],
   "execution_count": null
  },
  {
   "cell_type": "code",
   "id": "9aa7e2d2-1595-428a-a5a5-681e4486dbc9",
   "metadata": {
    "scrolled": true
   },
   "source": [
    "# Bounds for battery parameters\n",
    "bounds = [\n",
    "    (5, 35),  # generator_power_kW\n",
    "    (5, 100),# battery_capacity_kWh\n",
    "    (5, 40)   # battery_power_kW\n",
    "] \n",
    "\n",
    "# Run optimization\n",
    "result = minimize(system_co2_cost_function, x0=[10, 40, 35], bounds=bounds)\n",
    "\n",
    "# Extract results\n",
    "min_generator_power, optimal_capacity, optimal_power = result.x\n",
    "\n",
    "print(f\"Optimal battery capacity: {optimal_capacity:.2f} kWh\")\n",
    "print(f\"Optimal battery power: {optimal_power:.2f} kW\")\n",
    "print(f\"Optimal generator power: {min_generator_power:.2f} kW\")"
   ],
   "outputs": [],
   "execution_count": null
  },
  {
   "cell_type": "code",
   "id": "42aafd62-c20d-4579-b3bc-c02d019ddf95",
   "metadata": {},
   "source": [
    "# gen in blocks of 10kW, battery in 10kW and 5kWh blocks\n",
    "generator_power_kw=10\n",
    "battery_capacity_kwh=35\n",
    "battery_power_kw=30\n",
    "\n",
    "# Calculate co2 and cost (compate to gen only)\n",
    "results_df = simulate_battery_generator(\n",
    "    load_ser=filled_load_df[\"Power\"],\n",
    "    battery_capacity_kwh=battery_capacity_kwh,\n",
    "    battery_power_kw=battery_power_kw,\n",
    "    generator_power_kw=generator_power_kw,\n",
    "    normalised_gen_curve = gen_curve\n",
    ")\n",
    "\n",
    "rental_price = system_rental_price(generator_power_kw, battery_capacity_kwh, battery_power_kw)\n",
    "fuel_cost_and_co2_faults_dict = fuel_cost_and_co2_faults(results_df)\n",
    "total_price = fuel_cost_and_co2_faults_dict['fuel_cost_£'] + rental_price\n",
    "\n",
    "print(f\"The total cost = {total_price} which represents a saving of {TOTAL_GEN_COST - total_price}\")\n",
    "print(f\"The total co2 = {fuel_cost_and_co2_faults_dict['co2_kg']} which represents a saving of {TOTAL_GEN_CO2 - fuel_cost_and_co2_faults_dict['co2_kg']}\")\n",
    "print(f\"Total no. of faults = {fuel_cost_and_co2_faults_dict['no_faults']}\")"
   ],
   "outputs": [],
   "execution_count": null
  },
  {
   "cell_type": "markdown",
   "id": "2997663b-ff74-4093-90ce-b3907d84b119",
   "metadata": {},
   "source": [
    "#### Optimise for both co2 and cost\n",
    "Create joint price and co2 cost function"
   ]
  },
  {
   "cell_type": "code",
   "id": "995e4e03-0474-4d11-bdcd-6406cb2db552",
   "metadata": {},
   "source": [
    "def price_and_co2_cost_function(params):\n",
    "    generator_power_kw, battery_capacity_kwh, battery_power_kw = params\n",
    "\n",
    "     # Run simulation - to get faults and fuel usage\n",
    "    results_df = simulate_battery_generator(\n",
    "        load_ser=filled_load_df[\"Power\"],\n",
    "        battery_capacity_kwh=battery_capacity_kwh,\n",
    "        battery_power_kw=battery_power_kw,\n",
    "        generator_power_kw=generator_power_kw,  # minimize passes as array\n",
    "        normalised_gen_curve = gen_curve\n",
    "    )\n",
    "\n",
    "    results_dict = fuel_cost_and_co2_faults(results_df)\n",
    "    gen_fuel_co2 =results_dict[\"co2_kg\"]\n",
    "    faults = results_dict[\"no_faults\"]\n",
    "    \n",
    "    gen_fuel_cost = results_dict[\"fuel_cost_£\"]\n",
    "    rental_costs = system_rental_price(generator_power_kw, battery_capacity_kwh, battery_power_kw)\n",
    "\n",
    "    #scale costs compared to gen only\n",
    "    normalised_cost = (rental_costs + gen_fuel_cost)/TOTAL_GEN_COST\n",
    "    normalised_co2 = gen_fuel_co2/TOTAL_GEN_CO2\n",
    "    \n",
    "    #scale co2 copmared to gen only\n",
    "    \n",
    "    return  (0.5*normalised_cost) + (0.5*normalised_co2) + (faults * 1000)  # penalize faults heavily"
   ],
   "outputs": [],
   "execution_count": null
  },
  {
   "cell_type": "code",
   "id": "a69cf13c-1f09-4195-bd09-9b5627530a1e",
   "metadata": {},
   "source": [
    "# Bounds for battery parameters\n",
    "bounds = [\n",
    "    (5, 35),  # generator_power_kW\n",
    "    (5, 100),# battery_capacity_kWh\n",
    "    (5, 40)   # battery_power_kW\n",
    "] \n",
    "\n",
    "# Run optimization\n",
    "result = minimize(price_and_co2_cost_function, x0=[10, 40, 35], bounds=bounds)\n",
    "\n",
    "# Extract results\n",
    "min_generator_power, optimal_capacity, optimal_power = result.x\n",
    "\n",
    "print(f\"Optimal battery capacity: {optimal_capacity:.2f} kWh\")\n",
    "print(f\"Optimal battery power: {optimal_power:.2f} kW\")\n",
    "print(f\"Optimal generator power: {min_generator_power:.2f} kW\")"
   ],
   "outputs": [],
   "execution_count": null
  },
  {
   "cell_type": "code",
   "id": "951b49ab-689d-4520-ba64-061534b36b56",
   "metadata": {},
   "source": [
    "generator_power_kw=10\n",
    "battery_capacity_kwh=40\n",
    "battery_power_kw=30\n",
    "\n",
    "# Calculate co2 and cost (compate to gen only)\n",
    "results_df = simulate_battery_generator(\n",
    "    load_ser=filled_load_df[\"Power\"],\n",
    "    battery_capacity_kwh=battery_capacity_kwh,\n",
    "    battery_power_kw=battery_power_kw,\n",
    "    generator_power_kw=generator_power_kw,\n",
    "    normalised_gen_curve = gen_curve\n",
    ")\n",
    "\n",
    "rental_price = system_rental_price(generator_power_kw, battery_capacity_kwh, battery_power_kw)\n",
    "fuel_cost_and_co2_faults_dict = fuel_cost_and_co2_faults(results_df)\n",
    "total_price = fuel_cost_and_co2_faults_dict['fuel_cost_£'] + rental_price\n",
    "\n",
    "print(f\"The total cost = {total_price} which represents a saving of {TOTAL_GEN_COST - total_price}\")\n",
    "print(f\"The total co2 = {fuel_cost_and_co2_faults_dict['co2_kg']} which represents a saving of {TOTAL_GEN_CO2 - fuel_cost_and_co2_faults_dict['co2_kg']}\")\n",
    "print(f\"Total no. of faults = {fuel_cost_and_co2_faults_dict['no_faults']}\")"
   ],
   "outputs": [],
   "execution_count": null
  },
  {
   "cell_type": "code",
   "id": "dbd817e2-d7f7-410f-a5f8-74d6a1a9e19d",
   "metadata": {},
   "source": [],
   "outputs": [],
   "execution_count": null
  }
 ],
 "metadata": {
  "kernelspec": {
   "display_name": "Python 3 (ipykernel)",
   "language": "python",
   "name": "python3"
  },
  "language_info": {
   "codemirror_mode": {
    "name": "ipython",
    "version": 3
   },
   "file_extension": ".py",
   "mimetype": "text/x-python",
   "name": "python",
   "nbconvert_exporter": "python",
   "pygments_lexer": "ipython3",
   "version": "3.13.3"
  }
 },
 "nbformat": 4,
 "nbformat_minor": 5
}
